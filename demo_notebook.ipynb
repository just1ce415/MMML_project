{
 "cells": [
  {
   "attachments": {},
   "cell_type": "markdown",
   "metadata": {},
   "source": [
    "## Imports"
   ]
  },
  {
   "cell_type": "code",
   "execution_count": 3,
   "metadata": {},
   "outputs": [],
   "source": [
    "import numpy as np\n",
    "import scanpy as sc \n",
    "import umap\n",
    "from sklearn.manifold import SpectralEmbedding\n",
    "import matplotlib.pylab as plt"
   ]
  },
  {
   "attachments": {},
   "cell_type": "markdown",
   "metadata": {},
   "source": [
    "## Data preprocessing\n",
    "\n",
    "### Single-cell multione gene expression"
   ]
  },
  {
   "cell_type": "code",
   "execution_count": 4,
   "metadata": {},
   "outputs": [
    {
     "name": "stdout",
     "output_type": "stream",
     "text": [
      "Unexpected exception formatting exception. Falling back to standard exception\n"
     ]
    },
    {
     "name": "stderr",
     "output_type": "stream",
     "text": [
      "Traceback (most recent call last):\n",
      "  File \"/home/viktor/PythonProjects/MMML_project/venv/lib/python3.10/site-packages/IPython/core/interactiveshell.py\", line 3508, in run_code\n",
      "  File \"/tmp/ipykernel_28366/2653320238.py\", line 1, in <module>\n",
      "    multiome = sc.read_h5ad(\"data/GSE194122_openproblems_neurips2021_cite_BMMC_processed.h5ad\")\n",
      "  File \"/home/viktor/PythonProjects/MMML_project/venv/lib/python3.10/site-packages/anndata/_io/h5ad.py\", line 408, in read_h5ad\n",
      "  File \"/home/viktor/PythonProjects/MMML_project/venv/lib/python3.10/site-packages/h5py/_hl/files.py\", line 567, in __init__\n",
      "    fid = make_fid(name, mode, userblock_size, fapl, fcpl, swmr=swmr)\n",
      "  File \"/home/viktor/PythonProjects/MMML_project/venv/lib/python3.10/site-packages/h5py/_hl/files.py\", line 231, in make_fid\n",
      "    fid = h5f.open(name, flags, fapl=fapl)\n",
      "  File \"h5py/_objects.pyx\", line 54, in h5py._objects.with_phil.wrapper\n",
      "  File \"h5py/_objects.pyx\", line 55, in h5py._objects.with_phil.wrapper\n",
      "  File \"h5py/h5f.pyx\", line 106, in h5py.h5f.open\n",
      "FileNotFoundError: [Errno 2] Unable to open file (unable to open file: name = 'data/GSE194122_openproblems_neurips2021_cite_BMMC_processed.h5ad', errno = 2, error message = 'No such file or directory', flags = 0, o_flags = 0)\n",
      "\n",
      "During handling of the above exception, another exception occurred:\n",
      "\n",
      "Traceback (most recent call last):\n",
      "  File \"/home/viktor/PythonProjects/MMML_project/venv/lib/python3.10/site-packages/IPython/core/interactiveshell.py\", line 2105, in showtraceback\n",
      "  File \"/home/viktor/PythonProjects/MMML_project/venv/lib/python3.10/site-packages/IPython/core/ultratb.py\", line 1396, in structured_traceback\n",
      "  File \"/home/viktor/PythonProjects/MMML_project/venv/lib/python3.10/site-packages/IPython/core/ultratb.py\", line 1287, in structured_traceback\n",
      "  File \"/home/viktor/PythonProjects/MMML_project/venv/lib/python3.10/site-packages/IPython/core/ultratb.py\", line 1140, in structured_traceback\n",
      "  File \"/home/viktor/PythonProjects/MMML_project/venv/lib/python3.10/site-packages/IPython/core/ultratb.py\", line 1055, in format_exception_as_a_whole\n",
      "  File \"/home/viktor/PythonProjects/MMML_project/venv/lib/python3.10/site-packages/IPython/core/ultratb.py\", line 955, in format_record\n",
      "  File \"/home/viktor/PythonProjects/MMML_project/venv/lib/python3.10/site-packages/IPython/core/ultratb.py\", line 778, in lines\n",
      "  File \"/home/viktor/PythonProjects/MMML_project/venv/lib/python3.10/site-packages/stack_data/utils.py\", line 144, in cached_property_wrapper\n",
      "  File \"/home/viktor/PythonProjects/MMML_project/venv/lib/python3.10/site-packages/stack_data/core.py\", line 734, in lines\n",
      "  File \"/home/viktor/PythonProjects/MMML_project/venv/lib/python3.10/site-packages/stack_data/utils.py\", line 144, in cached_property_wrapper\n",
      "  File \"/home/viktor/PythonProjects/MMML_project/venv/lib/python3.10/site-packages/stack_data/core.py\", line 681, in included_pieces\n",
      "  File \"/home/viktor/PythonProjects/MMML_project/venv/lib/python3.10/site-packages/stack_data/utils.py\", line 144, in cached_property_wrapper\n",
      "  File \"/home/viktor/PythonProjects/MMML_project/venv/lib/python3.10/site-packages/stack_data/core.py\", line 660, in executing_piece\n",
      "  File \"/home/viktor/PythonProjects/MMML_project/venv/lib/python3.10/site-packages/executing/executing.py\", line 190, in only\n",
      "executing.executing.NotOneValueFound: Expected one value, found 0\n"
     ]
    }
   ],
   "source": [
    "multiome = sc.read_h5ad(\"data/GSE194122_openproblems_neurips2021_cite_BMMC_processed.h5ad\")\n",
    "gex = multiome[:, multiome.var[\"feature_types\"] == \"GEX\"]"
   ]
  },
  {
   "cell_type": "code",
   "execution_count": 3,
   "metadata": {},
   "outputs": [
    {
     "name": "stderr",
     "output_type": "stream",
     "text": [
      "c:\\Users\\dimon\\AppData\\Local\\Programs\\Python\\Python310\\lib\\site-packages\\scanpy\\preprocessing\\_highly_variable_genes.py:62: UserWarning: `flavor='seurat_v3'` expects raw count data, but non-integers were found.\n",
      "  warnings.warn(\n",
      "c:\\Users\\dimon\\AppData\\Local\\Programs\\Python\\Python310\\lib\\site-packages\\anndata\\compat\\_overloaded_dict.py:106: ImplicitModificationWarning: Trying to modify attribute `._uns` of view, initializing view as actual.\n",
      "  self.data[key] = value\n"
     ]
    }
   ],
   "source": [
    "sc.pp.highly_variable_genes(gex, n_top_genes=2500, flavor=\"seurat_v3\") # Feature selection"
   ]
  },
  {
   "cell_type": "code",
   "execution_count": 4,
   "metadata": {},
   "outputs": [
    {
     "data": {
      "text/plain": [
       "(90261, 2500)"
      ]
     },
     "execution_count": 4,
     "metadata": {},
     "output_type": "execute_result"
    }
   ],
   "source": [
    "gex_data = gex[:, gex.var[\"highly_variable\"]].X\n",
    "gex_data.shape # should be (90k, 2500)"
   ]
  },
  {
   "cell_type": "code",
   "execution_count": 5,
   "metadata": {},
   "outputs": [
    {
     "data": {
      "text/plain": [
       "(90261,)"
      ]
     },
     "execution_count": 5,
     "metadata": {},
     "output_type": "execute_result"
    }
   ],
   "source": [
    "gex_labels = gex.obs[\"cell_type\"].values\n",
    "gex_labels.shape"
   ]
  },
  {
   "attachments": {},
   "cell_type": "markdown",
   "metadata": {},
   "source": [
    "### Bank marketing dataset"
   ]
  },
  {
   "cell_type": "code",
   "execution_count": null,
   "metadata": {},
   "outputs": [],
   "source": [
    "marketing_data = ..."
   ]
  },
  {
   "attachments": {},
   "cell_type": "markdown",
   "metadata": {},
   "source": [
    "## Evaluation\n",
    "\n",
    "The evaluation pipeline is the follwoing:\n",
    "\n",
    "1) Apply dimensionality reduction technique (Laplacian Eigenmaps, t-SNE, UMAP) to the data (application)\n",
    "\n",
    "2) Compute quantitative metrics for the 2D embedding (KL divergence and Spearman's rank correlation) (quantitative metrics)\n",
    "\n",
    "3) Apply Leiden clustering algorithm to the embedding and plot clusters, assess the plot qualitatively (visualization)\n",
    "\n",
    "4) Compute ARI, AMI, Homogenuity and Completeness metrics on clustered labels to further assess the quality of the embedding (clustering metrics)\n"
   ]
  },
  {
   "cell_type": "code",
   "execution_count": 29,
   "metadata": {},
   "outputs": [],
   "source": [
    "import sklearn.metrics as sm\n",
    "from scipy.spatial.distance import pdist\n",
    "from scipy.stats import spearmanr\n",
    "\n",
    "def get_quantitative_metrics(data, embedding, eps=0.00001):\n",
    "    original_distances = pdist(data, metric='euclidean') + eps\n",
    "    embedded_distances = pdist(embedding, metric='euclidean') + eps\n",
    "    kl_divergence = np.sum(original_distances * np.log(original_distances / embedded_distances))\n",
    "    spearman_corr, _ = spearmanr(original_distances, embedded_distances)\n",
    "\n",
    "    print(\"KL Divergence:\", kl_divergence)\n",
    "    print(\"Spearman's Rank Correlation:\", spearman_corr)\n",
    "    return kl_divergence, spearman_corr\n",
    "\n",
    "def plot_embedding(embedding):\n",
    "    anndata = sc.AnnData(embedding)\n",
    "    print(anndata.obs_keys)\n",
    "    sc.pp.neighbors(anndata, use_rep=\"X\")\n",
    "    sc.tl.leiden(anndata)\n",
    "    sc.tl.umap(anndata)\n",
    "    leiden_labels = anndata.obs[\"leiden\"].values\n",
    "    sc.pl.umap(anndata, color=\"leiden\")\n",
    "    plt.show\n",
    "    return leiden_labels\n",
    "\n",
    "def get_clustering_metrics(labels, cluster_labels):\n",
    "    ari = sm.adjusted_rand_score(labels, cluster_labels)\n",
    "    ami = sm.adjusted_mutual_info_score(labels, cluster_labels)\n",
    "    homogeneity = sm.homogeneity_score(labels, cluster_labels)\n",
    "    completeness = sm.completeness_score(labels, cluster_labels)\n",
    "    print(\"\"\"\n",
    "    ARI: {}\\n\n",
    "    AMI: {}\\n\n",
    "    Homogenuity: {}\\n\n",
    "    Completeness: {}\n",
    "    \"\"\".format(ari, ami, homogeneity, completeness))\n",
    "    return ari, ami, homogeneity, completeness"
   ]
  },
  {
   "attachments": {},
   "cell_type": "markdown",
   "metadata": {},
   "source": [
    "### t-SNE"
   ]
  },
  {
   "attachments": {},
   "cell_type": "markdown",
   "metadata": {},
   "source": [
    "Application"
   ]
  },
  {
   "cell_type": "code",
   "execution_count": null,
   "metadata": {},
   "outputs": [],
   "source": [
    "def t_sne(data, n_components=2):\n",
    "    embedding = ...\n",
    "    return embedding"
   ]
  },
  {
   "attachments": {},
   "cell_type": "markdown",
   "metadata": {},
   "source": [
    "Quantitative metrics"
   ]
  },
  {
   "cell_type": "code",
   "execution_count": null,
   "metadata": {},
   "outputs": [],
   "source": [
    "embedding = t_sne(gex_data, n_components=2)"
   ]
  },
  {
   "attachments": {},
   "cell_type": "markdown",
   "metadata": {},
   "source": [
    "Visualization"
   ]
  },
  {
   "attachments": {},
   "cell_type": "markdown",
   "metadata": {},
   "source": [
    "Clustering metrics"
   ]
  },
  {
   "attachments": {},
   "cell_type": "markdown",
   "metadata": {},
   "source": [
    "### Laplacian Eigenmaps"
   ]
  },
  {
   "attachments": {},
   "cell_type": "markdown",
   "metadata": {},
   "source": [
    "Application"
   ]
  },
  {
   "cell_type": "code",
   "execution_count": 9,
   "metadata": {},
   "outputs": [],
   "source": [
    "reducer = SpectralEmbedding(n_components=2)\n",
    "le_embedding = reducer.fit_transform(np.asarray(gex_data[:2000].toarray()))"
   ]
  },
  {
   "cell_type": "code",
   "execution_count": 10,
   "metadata": {},
   "outputs": [
    {
     "data": {
      "text/plain": [
       "(2000, 2)"
      ]
     },
     "execution_count": 10,
     "metadata": {},
     "output_type": "execute_result"
    }
   ],
   "source": [
    "le_embedding.shape"
   ]
  },
  {
   "attachments": {},
   "cell_type": "markdown",
   "metadata": {},
   "source": [
    "Quantitative metrics"
   ]
  },
  {
   "cell_type": "code",
   "execution_count": 12,
   "metadata": {},
   "outputs": [
    {
     "name": "stdout",
     "output_type": "stream",
     "text": [
      "KL Divergence: 404454468000.7337\n",
      "Spearman's Rank Correlation: 0.7549299758652686\n"
     ]
    }
   ],
   "source": [
    "le_kl_div, le_sp_corr = get_quantitative_metrics(np.asarray(gex_data[:2000].toarray()), le_embedding)"
   ]
  },
  {
   "attachments": {},
   "cell_type": "markdown",
   "metadata": {},
   "source": [
    "Visualization"
   ]
  },
  {
   "cell_type": "code",
   "execution_count": 30,
   "metadata": {},
   "outputs": [
    {
     "name": "stderr",
     "output_type": "stream",
     "text": [
      "C:\\Users\\dimon\\AppData\\Local\\Temp\\ipykernel_23004\\2262814147.py:16: FutureWarning: X.dtype being converted to np.float32 from float64. In the next version of anndata (0.9) conversion will not be automatic. Pass dtype explicitly to avoid this warning. Pass `AnnData(X, dtype=X.dtype, ...)` to get the future behavour.\n",
      "  anndata = sc.AnnData(embedding)\n"
     ]
    },
    {
     "data": {
      "image/png": "[encoded data removed]",
      "text/plain": [
       "<Figure size 432x288 with 1 Axes>"
      ]
     },
     "metadata": {},
     "output_type": "display_data"
    }
   ],
   "source": [
    "le_cluster_labels = plot_embedding(le_embedding)"
   ]
  },
  {
   "attachments": {},
   "cell_type": "markdown",
   "metadata": {},
   "source": [
    "Clustering metrics"
   ]
  },
  {
   "cell_type": "code",
   "execution_count": 32,
   "metadata": {},
   "outputs": [
    {
     "name": "stdout",
     "output_type": "stream",
     "text": [
      "\n",
      "    ARI: 0.21975694765371645\n",
      "\n",
      "    AMI: 0.4728698504087835\n",
      "\n",
      "    Homogenuity: 0.5672523630475469\n",
      "\n",
      "    Completeness: 0.48271782214487824\n",
      "    \n"
     ]
    }
   ],
   "source": [
    "le_ari, le_ami, le_homogenuity, le_completeness = get_clustering_metrics(gex_labels[:2000], le_cluster_labels)"
   ]
  },
  {
   "cell_type": "code",
   "execution_count": 42,
   "metadata": {},
   "outputs": [
    {
     "name": "stdout",
     "output_type": "stream",
     "text": [
      "0.43564924581373127\n"
     ]
    }
   ],
   "source": [
    "# overall\n",
    "print((le_ari + le_ami + le_homogenuity + le_completeness)/4)"
   ]
  },
  {
   "attachments": {},
   "cell_type": "markdown",
   "metadata": {},
   "source": [
    "### UMAP\n",
    "\n",
    "Application"
   ]
  },
  {
   "cell_type": "code",
   "execution_count": 34,
   "metadata": {},
   "outputs": [],
   "source": [
    "reducer = umap.UMAP(n_components=2)\n",
    "umap_embedding = reducer.fit_transform(gex_data[:5000])"
   ]
  },
  {
   "attachments": {},
   "cell_type": "markdown",
   "metadata": {},
   "source": [
    "Quantitative metrics"
   ]
  },
  {
   "cell_type": "code",
   "execution_count": 35,
   "metadata": {},
   "outputs": [
    {
     "name": "stdout",
     "output_type": "stream",
     "text": [
      "KL Divergence: 1313232499927.6465\n",
      "Spearman's Rank Correlation: 0.7953632271206441\n"
     ]
    }
   ],
   "source": [
    "umap_kl_div, umap_sp_corr = get_quantitative_metrics(np.asarray(gex_data[:5000].toarray()), umap_embedding)"
   ]
  },
  {
   "attachments": {},
   "cell_type": "markdown",
   "metadata": {},
   "source": [
    "Visualization"
   ]
  },
  {
   "cell_type": "code",
   "execution_count": 36,
   "metadata": {},
   "outputs": [
    {
     "data": {
      "image/png": "[encoded data removed]",
      "text/plain": [
       "<Figure size 432x288 with 1 Axes>"
      ]
     },
     "metadata": {},
     "output_type": "display_data"
    }
   ],
   "source": [
    "umap_cluster_labels = plot_embedding(umap_embedding)"
   ]
  },
  {
   "attachments": {},
   "cell_type": "markdown",
   "metadata": {},
   "source": [
    "Clustering metrics"
   ]
  },
  {
   "cell_type": "code",
   "execution_count": 40,
   "metadata": {},
   "outputs": [
    {
     "name": "stdout",
     "output_type": "stream",
     "text": [
      "\n",
      "    ARI: 0.22890934884668243\n",
      "\n",
      "    AMI: 0.5515534482377265\n",
      "\n",
      "    Homogenuity: 0.6629262349694341\n",
      "\n",
      "    Completeness: 0.5097989911449575\n",
      "    \n"
     ]
    }
   ],
   "source": [
    "umap_ari, umap_ami, umap_homogenuity, umap_completeness = get_clustering_metrics(gex_labels[:5000], umap_cluster_labels)"
   ]
  },
  {
   "cell_type": "code",
   "execution_count": 41,
   "metadata": {},
   "outputs": [
    {
     "name": "stdout",
     "output_type": "stream",
     "text": [
      "0.48829700579970015\n"
     ]
    }
   ],
   "source": [
    "# overall\n",
    "print((umap_ari + umap_ami + umap_homogenuity + umap_completeness)/4)"
   ]
  }
 ],
 "metadata": {
  "kernelspec": {
   "display_name": "Python 3",
   "language": "python",
   "name": "python3"
  },
  "language_info": {
   "codemirror_mode": {
    "name": "ipython",
    "version": 3
   },
   "file_extension": ".py",
   "mimetype": "text/x-python",
   "name": "python",
   "nbconvert_exporter": "python",
   "pygments_lexer": "ipython3",
   "version": "3.10.6"
  },
  "orig_nbformat": 4
 },
 "nbformat": 4,
 "nbformat_minor": 2
}
