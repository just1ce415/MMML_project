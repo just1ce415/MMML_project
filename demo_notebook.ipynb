{
 "cells": [
  {
   "attachments": {},
   "cell_type": "markdown",
   "metadata": {},
   "source": [
    "## Imports"
   ]
  },
  {
   "cell_type": "code",
   "execution_count": 17,
   "metadata": {},
   "outputs": [],
   "source": [
    "import numpy as np\n",
    "import scanpy as sc \n",
    "import sklearn.metrics as sm"
   ]
  },
  {
   "attachments": {},
   "cell_type": "markdown",
   "metadata": {},
   "source": [
    "## Data preprocessing\n",
    "\n",
    "We can obtain our data with or without PCA. Anyway, firstly, let's reduce number of features to 2500."
   ]
  },
  {
   "cell_type": "code",
   "execution_count": 3,
   "metadata": {},
   "outputs": [
    {
     "name": "stderr",
     "output_type": "stream",
     "text": [
      "c:\\Users\\dimon\\AppData\\Local\\Programs\\Python\\Python310\\lib\\site-packages\\anndata\\_core\\anndata.py:1830: UserWarning: Variable names are not unique. To make them unique, call `.var_names_make_unique`.\n",
      "  utils.warn_names_duplicates(\"var\")\n"
     ]
    }
   ],
   "source": [
    "multiome = sc.read_h5ad(\"data/GSE194122_openproblems_neurips2021_cite_BMMC_processed.h5ad\")\n",
    "gex = multiome[:, multiome.var[\"feature_types\"] == \"GEX\"]"
   ]
  },
  {
   "cell_type": "code",
   "execution_count": 5,
   "metadata": {},
   "outputs": [
    {
     "name": "stderr",
     "output_type": "stream",
     "text": [
      "c:\\Users\\dimon\\AppData\\Local\\Programs\\Python\\Python310\\lib\\site-packages\\scanpy\\preprocessing\\_highly_variable_genes.py:62: UserWarning: `flavor='seurat_v3'` expects raw count data, but non-integers were found.\n",
      "  warnings.warn(\n",
      "c:\\Users\\dimon\\AppData\\Local\\Programs\\Python\\Python310\\lib\\site-packages\\anndata\\compat\\_overloaded_dict.py:106: ImplicitModificationWarning: Trying to modify attribute `._uns` of view, initializing view as actual.\n",
      "  self.data[key] = value\n"
     ]
    }
   ],
   "source": [
    "sc.pp.highly_variable_genes(gex, n_top_genes=2500, flavor=\"seurat_v3\") # Feature selection"
   ]
  },
  {
   "cell_type": "code",
   "execution_count": 11,
   "metadata": {},
   "outputs": [
    {
     "data": {
      "text/plain": [
       "(90261, 2500)"
      ]
     },
     "execution_count": 11,
     "metadata": {},
     "output_type": "execute_result"
    }
   ],
   "source": [
    "gex_data = gex[:, gex.var[\"highly_variable\"]].X\n",
    "gex_data.shape # should be (90k, 2500)"
   ]
  },
  {
   "cell_type": "code",
   "execution_count": 13,
   "metadata": {},
   "outputs": [],
   "source": [
    "sc.pp.pca(gex, n_comps=30) # Perform PCA reduction of the data"
   ]
  },
  {
   "cell_type": "code",
   "execution_count": 14,
   "metadata": {},
   "outputs": [
    {
     "data": {
      "text/plain": [
       "(90261, 30)"
      ]
     },
     "execution_count": 14,
     "metadata": {},
     "output_type": "execute_result"
    }
   ],
   "source": [
    "gex_data_pcaed = np.array(gex.obsm[\"X_pca\"], dtype=np.float32)\n",
    "gex_data_pcaed.shape # should be (90k, 30)"
   ]
  },
  {
   "cell_type": "code",
   "execution_count": 21,
   "metadata": {},
   "outputs": [
    {
     "data": {
      "text/plain": [
       "(90261,)"
      ]
     },
     "execution_count": 21,
     "metadata": {},
     "output_type": "execute_result"
    }
   ],
   "source": [
    "gex_labels = gex.obs[\"cell_type\"]\n",
    "gex_labels.shape"
   ]
  },
  {
   "attachments": {},
   "cell_type": "markdown",
   "metadata": {},
   "source": [
    "## Evaluation pipeline\n",
    "\n",
    "Let's evaluate PCAed data with Leiden clustering. For this, we must use help of AnnData again."
   ]
  },
  {
   "cell_type": "code",
   "execution_count": 18,
   "metadata": {},
   "outputs": [
    {
     "name": "stderr",
     "output_type": "stream",
     "text": [
      "c:\\Users\\dimon\\AppData\\Local\\Programs\\Python\\Python310\\lib\\site-packages\\tqdm\\auto.py:22: TqdmWarning: IProgress not found. Please update jupyter and ipywidgets. See https://ipywidgets.readthedocs.io/en/stable/user_install.html\n",
      "  from .autonotebook import tqdm as notebook_tqdm\n"
     ]
    }
   ],
   "source": [
    "gex_ad_eval = sc.AnnData(gex_data_pcaed)\n",
    "sc.pp.neighbors(gex_ad_eval, use_rep='X')\n",
    "sc.tl.leiden(gex_ad_eval, resolution=1, key_added=\"leiden\")"
   ]
  },
  {
   "cell_type": "code",
   "execution_count": 19,
   "metadata": {},
   "outputs": [
    {
     "data": {
      "text/plain": [
       "0        19\n",
       "1         2\n",
       "2        12\n",
       "3         1\n",
       "4        47\n",
       "         ..\n",
       "90256     3\n",
       "90257     1\n",
       "90258    38\n",
       "90259    25\n",
       "90260    42\n",
       "Name: leiden, Length: 90261, dtype: category\n",
       "Categories (54, object): ['0', '1', '2', '3', ..., '50', '51', '52', '53']"
      ]
     },
     "execution_count": 19,
     "metadata": {},
     "output_type": "execute_result"
    }
   ],
   "source": [
    "# Get cluster labels as numpy array\n",
    "gex_ad_eval.obs[\"leiden\"]"
   ]
  },
  {
   "cell_type": "code",
   "execution_count": 20,
   "metadata": {},
   "outputs": [
    {
     "name": "stdout",
     "output_type": "stream",
     "text": [
      "\n",
      "ARI: 0.06248161009715558\n",
      "\n",
      "AMI: 0.26549472386422207\n",
      "\n",
      "Homogenuity: 0.30198739490647486\n",
      "\n",
      "Completeness: 0.24136953972126018\n",
      "\n"
     ]
    }
   ],
   "source": [
    "ari = sm.adjusted_rand_score(gex_labels.values, gex_ad_eval.obs[\"leiden\"])\n",
    "ami = sm.adjusted_mutual_info_score(gex_labels.values, gex_ad_eval.obs[\"leiden\"])\n",
    "homogeneity = sm.homogeneity_score(gex_labels.values, gex_ad_eval.obs[\"leiden\"])\n",
    "completeness = sm.completeness_score(gex_labels.values, gex_ad_eval.obs[\"leiden\"])\n",
    "print(\"\"\"\n",
    "ARI: {}\\n\n",
    "AMI: {}\\n\n",
    "Homogenuity: {}\\n\n",
    "Completeness: {}\n",
    "\"\"\".format(ari, ami, homogeneity, completeness))"
   ]
  }
 ],
 "metadata": {
  "kernelspec": {
   "display_name": "Python 3",
   "language": "python",
   "name": "python3"
  },
  "language_info": {
   "codemirror_mode": {
    "name": "ipython",
    "version": 3
   },
   "file_extension": ".py",
   "mimetype": "text/x-python",
   "name": "python",
   "nbconvert_exporter": "python",
   "pygments_lexer": "ipython3",
   "version": "3.10.8"
  },
  "orig_nbformat": 4
 },
 "nbformat": 4,
 "nbformat_minor": 2
}
