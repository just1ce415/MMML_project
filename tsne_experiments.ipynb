{
 "cells": [
  {
   "cell_type": "code",
   "execution_count": 2,
   "metadata": {},
   "outputs": [
    {
     "name": "stdout",
     "output_type": "stream",
     "text": [
      "The autoreload extension is already loaded. To reload it, use:\n",
      "  %reload_ext autoreload\n"
     ]
    }
   ],
   "source": [
    "%load_ext autoreload\n",
    "%autoreload 2"
   ]
  },
  {
   "cell_type": "code",
   "execution_count": 17,
   "metadata": {},
   "outputs": [],
   "source": [
    "from t_sne import *\n",
    "from sklearn.decomposition import PCA\n",
    "from sklearn.cluster import MiniBatchKMeans\n",
    "from sklearn.manifold import TSNE as s_TSNE\n",
    "\n",
    "import pandas as pd\n",
    "import matplotlib.pyplot as plt\n",
    "import numpy as np\n",
    "\n",
    "from tqdm import tqdm\n",
    "\n",
    "import scanpy as sc \n",
    "import sklearn.metrics as sm\n",
    "from scipy.spatial.distance import pdist\n",
    "from scipy.stats import spearmanr\n",
    "\n",
    "import pprint\n",
    "import copy"
   ]
  },
  {
   "attachments": {},
   "cell_type": "markdown",
   "metadata": {},
   "source": [
    "## Data preparation"
   ]
  },
  {
   "cell_type": "code",
   "execution_count": 13,
   "metadata": {},
   "outputs": [],
   "source": [
    "X = pd.read_csv(\"data/mnist_train.csv\")\n",
    "X_numpy = X.iloc[:6000, 1:].to_numpy().astype('float64')\n",
    "labels = X.iloc[:6000, 0].values"
   ]
  },
  {
   "cell_type": "code",
   "execution_count": 14,
   "metadata": {},
   "outputs": [
    {
     "name": "stdout",
     "output_type": "stream",
     "text": [
      "[[0. 0. 0. ... 0. 0. 0.]\n",
      " [0. 0. 0. ... 0. 0. 0.]\n",
      " [0. 0. 0. ... 0. 0. 0.]\n",
      " [0. 0. 0. ... 0. 0. 0.]\n",
      " [0. 0. 0. ... 0. 0. 0.]]\n",
      "(6000, 784)\n"
     ]
    }
   ],
   "source": [
    "print(X_numpy[:5])\n",
    "print(X_numpy.shape)"
   ]
  },
  {
   "cell_type": "code",
   "execution_count": 15,
   "metadata": {},
   "outputs": [
    {
     "data": {
      "text/plain": [
       "array([5, 0, 4, ..., 8, 6, 9], dtype=int64)"
      ]
     },
     "execution_count": 15,
     "metadata": {},
     "output_type": "execute_result"
    }
   ],
   "source": [
    "labels"
   ]
  },
  {
   "attachments": {},
   "cell_type": "markdown",
   "metadata": {},
   "source": [
    "## Evaluation functions"
   ]
  },
  {
   "cell_type": "code",
   "execution_count": 16,
   "metadata": {},
   "outputs": [],
   "source": [
    "def get_src(data, embedding):\n",
    "    original_distances = pdist(data, metric='euclidean')\n",
    "    embedded_distances = pdist(embedding, metric='euclidean')\n",
    "    spearman_corr, _ = spearmanr(original_distances, embedded_distances)\n",
    "    return spearman_corr\n",
    "\n",
    "def plot_embedding(embedding, labels):\n",
    "    fig, axs = plt.subplots(1, 2, figsize=(16, 8))\n",
    "    handles = []\n",
    "    for i, label in enumerate(np.unique(labels)):\n",
    "        handle = axs[0].scatter(embedding[labels==label, 0], embedding[labels==label, 1], s=1., label=label)\n",
    "        handles.append(handle)\n",
    "\n",
    "    axs[1].legend(handles, np.unique(labels), ncol=2)\n",
    "\n",
    "    plt.xlabel(\"EMB1\")\n",
    "    plt.ylabel(\"EMB2\")\n",
    "    plt.show()\n",
    "\n",
    "def get_clustering_metrics(embedding, labels):\n",
    "    anndata = sc.AnnData(embedding)\n",
    "    sc.pp.neighbors(anndata, use_rep=\"X\")\n",
    "    sc.tl.leiden(anndata)\n",
    "    cluster_labels = anndata.obs[\"leiden\"].values\n",
    "    print(\"Number of Leiden clusters:\", cluster_labels.shape)\n",
    "    ari = sm.adjusted_rand_score(labels, cluster_labels)\n",
    "    ami = sm.adjusted_mutual_info_score(labels, cluster_labels)\n",
    "    homogeneity = sm.homogeneity_score(labels, cluster_labels)\n",
    "    completeness = sm.completeness_score(labels, cluster_labels)\n",
    "    print(\"\"\"\n",
    "    ARI: {}\\n\n",
    "    AMI: {}\\n\n",
    "    Homogenuity: {}\\n\n",
    "    Completeness: {}\\n\n",
    "    Avarage: {}\n",
    "    \"\"\".format(ari, ami, homogeneity, completeness, ari+ami+homogeneity+completeness/4))\n",
    "    return ari, ami, homogeneity, completeness"
   ]
  },
  {
   "attachments": {},
   "cell_type": "markdown",
   "metadata": {},
   "source": [
    "## Experiments"
   ]
  },
  {
   "attachments": {},
   "cell_type": "markdown",
   "metadata": {},
   "source": [
    "### No optimization"
   ]
  },
  {
   "cell_type": "code",
   "execution_count": 18,
   "metadata": {},
   "outputs": [],
   "source": [
    "tsne1 = TSNE(\n",
    "    n_components=2,\n",
    "    num_iters=1000,\n",
    "    compression_period=0,\n",
    "    random_walk=False\n",
    ")"
   ]
  },
  {
   "cell_type": "code",
   "execution_count": 19,
   "metadata": {},
   "outputs": [
    {
     "name": "stdout",
     "output_type": "stream",
     "text": [
      "Finding sigmas\n"
     ]
    },
    {
     "name": "stderr",
     "output_type": "stream",
     "text": [
      "100%|██████████| 6000/6000 [01:38<00:00, 60.78it/s]\n"
     ]
    }
   ],
   "source": [
    "tsne1.get_highdimensional_similarities(X_numpy)"
   ]
  },
  {
   "cell_type": "code",
   "execution_count": 20,
   "metadata": {},
   "outputs": [
    {
     "name": "stdout",
     "output_type": "stream",
     "text": [
      "Running gradient descent...\n"
     ]
    },
    {
     "name": "stderr",
     "output_type": "stream",
     "text": [
      "  0%|          | 4/1000 [00:25<1:43:04,  6.21s/it]c:\\Users\\dimon\\Documents\\studia\\22-23\\MMML\\MMML_project\\t_sne.py:167: RuntimeWarning: divide by zero encountered in reciprocal\n",
      "  D_recip = np.reciprocal(1 + D)\n",
      " 16%|█▌        | 161/1000 [12:36<1:05:43,  4.70s/it]\n"
     ]
    },
    {
     "ename": "KeyboardInterrupt",
     "evalue": "",
     "output_type": "error",
     "traceback": [
      "\u001b[1;31m---------------------------------------------------------------------------\u001b[0m",
      "\u001b[1;31mKeyboardInterrupt\u001b[0m                         Traceback (most recent call last)",
      "\u001b[1;32mc:\\Users\\dimon\\Documents\\studia\\22-23\\MMML\\MMML_project\\tsne_experiments.ipynb Cell 13\u001b[0m in \u001b[0;36m<cell line: 1>\u001b[1;34m()\u001b[0m\n\u001b[1;32m----> <a href='vscode-notebook-cell:/c%3A/Users/dimon/Documents/studia/22-23/MMML/MMML_project/tsne_experiments.ipynb#X66sZmlsZQ%3D%3D?line=0'>1</a>\u001b[0m Y \u001b[39m=\u001b[39m tsne1\u001b[39m.\u001b[39;49mfit()\n",
      "File \u001b[1;32mc:\\Users\\dimon\\Documents\\studia\\22-23\\MMML\\MMML_project\\t_sne.py:422\u001b[0m, in \u001b[0;36mTSNE.fit\u001b[1;34m(self, seed)\u001b[0m\n\u001b[0;32m    419\u001b[0m         pca \u001b[39m=\u001b[39m PCA(n_components\u001b[39m=\u001b[39m\u001b[39mself\u001b[39m\u001b[39m.\u001b[39mn_components)\n\u001b[0;32m    420\u001b[0m         \u001b[39mself\u001b[39m\u001b[39m.\u001b[39mY \u001b[39m=\u001b[39m pca\u001b[39m.\u001b[39mfit(X\u001b[39m=\u001b[39m\u001b[39mself\u001b[39m\u001b[39m.\u001b[39mX)\n\u001b[1;32m--> 422\u001b[0m \u001b[39mself\u001b[39m\u001b[39m.\u001b[39mY \u001b[39m=\u001b[39m \u001b[39mself\u001b[39;49m\u001b[39m.\u001b[39;49m_gradient_descent(\u001b[39mself\u001b[39;49m\u001b[39m.\u001b[39;49mP, \u001b[39mself\u001b[39;49m\u001b[39m.\u001b[39;49mY)\n\u001b[0;32m    424\u001b[0m \u001b[39mreturn\u001b[39;00m \u001b[39mself\u001b[39m\u001b[39m.\u001b[39mY\n",
      "File \u001b[1;32mc:\\Users\\dimon\\Documents\\studia\\22-23\\MMML\\MMML_project\\t_sne.py:437\u001b[0m, in \u001b[0;36mTSNE._gradient_descent\u001b[1;34m(self, P, Y)\u001b[0m\n\u001b[0;32m    435\u001b[0m     grad \u001b[39m=\u001b[39m kl_divergence_grad(P, Q, Y, D_inv, eef\u001b[39m=\u001b[39m\u001b[39m12\u001b[39m)\n\u001b[0;32m    436\u001b[0m \u001b[39melse\u001b[39;00m:\n\u001b[1;32m--> 437\u001b[0m     grad \u001b[39m=\u001b[39m kl_divergence_grad(P, Q, Y, D_inv)\n\u001b[0;32m    438\u001b[0m \u001b[39mif\u001b[39;00m t \u001b[39m<\u001b[39m \u001b[39mself\u001b[39m\u001b[39m.\u001b[39mcompression_period:\n\u001b[0;32m    439\u001b[0m     grad \u001b[39m+\u001b[39m\u001b[39m=\u001b[39m l2_penalty_grad(Y, \u001b[39mself\u001b[39m\u001b[39m.\u001b[39mcompression_term)\n",
      "File \u001b[1;32mc:\\Users\\dimon\\Documents\\studia\\22-23\\MMML\\MMML_project\\t_sne.py:283\u001b[0m, in \u001b[0;36mkl_divergence_grad\u001b[1;34m(P, Q, Y, D_recip, eef)\u001b[0m\n\u001b[0;32m    279\u001b[0m y_diff \u001b[39m=\u001b[39m y_i \u001b[39m-\u001b[39m y_j\n\u001b[0;32m    281\u001b[0m d_expand \u001b[39m=\u001b[39m np\u001b[39m.\u001b[39mexpand_dims(D_recip, \u001b[39m2\u001b[39m)\n\u001b[1;32m--> 283\u001b[0m grad \u001b[39m=\u001b[39m \u001b[39m4\u001b[39m \u001b[39m*\u001b[39m (pq_expand \u001b[39m*\u001b[39;49m y_diff \u001b[39m*\u001b[39;49m d_expand)\u001b[39m.\u001b[39;49msum(axis\u001b[39m=\u001b[39;49m\u001b[39m1\u001b[39;49m)\n\u001b[0;32m    284\u001b[0m \u001b[39mreturn\u001b[39;00m grad\n",
      "File \u001b[1;32mc:\\Users\\dimon\\AppData\\Local\\Programs\\Python\\Python310\\lib\\site-packages\\numpy\\core\\_methods.py:46\u001b[0m, in \u001b[0;36m_sum\u001b[1;34m(a, axis, dtype, out, keepdims, initial, where)\u001b[0m\n\u001b[0;32m     42\u001b[0m \u001b[39mdef\u001b[39;00m \u001b[39m_amin\u001b[39m(a, axis\u001b[39m=\u001b[39m\u001b[39mNone\u001b[39;00m, out\u001b[39m=\u001b[39m\u001b[39mNone\u001b[39;00m, keepdims\u001b[39m=\u001b[39m\u001b[39mFalse\u001b[39;00m,\n\u001b[0;32m     43\u001b[0m           initial\u001b[39m=\u001b[39m_NoValue, where\u001b[39m=\u001b[39m\u001b[39mTrue\u001b[39;00m):\n\u001b[0;32m     44\u001b[0m     \u001b[39mreturn\u001b[39;00m umr_minimum(a, axis, \u001b[39mNone\u001b[39;00m, out, keepdims, initial, where)\n\u001b[1;32m---> 46\u001b[0m \u001b[39mdef\u001b[39;00m \u001b[39m_sum\u001b[39m(a, axis\u001b[39m=\u001b[39m\u001b[39mNone\u001b[39;00m, dtype\u001b[39m=\u001b[39m\u001b[39mNone\u001b[39;00m, out\u001b[39m=\u001b[39m\u001b[39mNone\u001b[39;00m, keepdims\u001b[39m=\u001b[39m\u001b[39mFalse\u001b[39;00m,\n\u001b[0;32m     47\u001b[0m          initial\u001b[39m=\u001b[39m_NoValue, where\u001b[39m=\u001b[39m\u001b[39mTrue\u001b[39;00m):\n\u001b[0;32m     48\u001b[0m     \u001b[39mreturn\u001b[39;00m umr_sum(a, axis, dtype, out, keepdims, initial, where)\n\u001b[0;32m     50\u001b[0m \u001b[39mdef\u001b[39;00m \u001b[39m_prod\u001b[39m(a, axis\u001b[39m=\u001b[39m\u001b[39mNone\u001b[39;00m, dtype\u001b[39m=\u001b[39m\u001b[39mNone\u001b[39;00m, out\u001b[39m=\u001b[39m\u001b[39mNone\u001b[39;00m, keepdims\u001b[39m=\u001b[39m\u001b[39mFalse\u001b[39;00m,\n\u001b[0;32m     51\u001b[0m           initial\u001b[39m=\u001b[39m_NoValue, where\u001b[39m=\u001b[39m\u001b[39mTrue\u001b[39;00m):\n",
      "\u001b[1;31mKeyboardInterrupt\u001b[0m: "
     ]
    }
   ],
   "source": [
    "Y1 = tsne1.fit()"
   ]
  },
  {
   "cell_type": "code",
   "execution_count": null,
   "metadata": {},
   "outputs": [],
   "source": [
    "tsne1.plot_metrics()"
   ]
  },
  {
   "cell_type": "code",
   "execution_count": null,
   "metadata": {},
   "outputs": [],
   "source": [
    "plot_embedding(Y, labels)"
   ]
  },
  {
   "cell_type": "code",
   "execution_count": null,
   "metadata": {},
   "outputs": [],
   "source": [
    "src = get_src(X_numpy, Y)\n",
    "kld = tsne1.metrics[\"kl_divergence\"][-1]\n",
    "\n",
    "print(\"KLD\", kld)\n",
    "print(\"SRC\", src)"
   ]
  },
  {
   "cell_type": "code",
   "execution_count": null,
   "metadata": {},
   "outputs": [],
   "source": [
    "get_clustering_metrics(Y1, labels)"
   ]
  },
  {
   "attachments": {},
   "cell_type": "markdown",
   "metadata": {},
   "source": [
    "### Early compression"
   ]
  },
  {
   "cell_type": "code",
   "execution_count": null,
   "metadata": {},
   "outputs": [],
   "source": [
    "tsne2 = TSNE(\n",
    "    n_components=2,\n",
    "    num_iters=1000,\n",
    "    compression_period=300,\n",
    "    compression_term=1e-2,\n",
    "    random_walk=False\n",
    ")"
   ]
  },
  {
   "cell_type": "code",
   "execution_count": null,
   "metadata": {},
   "outputs": [],
   "source": [
    "tsne1.get_highdimensional_similarities(X_numpy)"
   ]
  },
  {
   "cell_type": "code",
   "execution_count": null,
   "metadata": {},
   "outputs": [],
   "source": [
    "Y2 = tsne1.fit()"
   ]
  },
  {
   "cell_type": "code",
   "execution_count": null,
   "metadata": {},
   "outputs": [],
   "source": [
    "tsne2.plot_metrics()"
   ]
  },
  {
   "cell_type": "code",
   "execution_count": null,
   "metadata": {},
   "outputs": [],
   "source": [
    "plot_embedding(Y2, labels)"
   ]
  },
  {
   "cell_type": "code",
   "execution_count": null,
   "metadata": {},
   "outputs": [],
   "source": [
    "src = get_src(X_numpy, Y2)\n",
    "kld = tsne2.metrics[\"kl_divergence\"][-1]\n",
    "\n",
    "print(\"KLD\", kld)\n",
    "print(\"SRC\", src)"
   ]
  },
  {
   "cell_type": "code",
   "execution_count": null,
   "metadata": {},
   "outputs": [],
   "source": [
    "get_clustering_metrics(Y1, labels)"
   ]
  }
 ],
 "metadata": {
  "kernelspec": {
   "display_name": "venv",
   "language": "python",
   "name": "python3"
  },
  "language_info": {
   "codemirror_mode": {
    "name": "ipython",
    "version": 3
   },
   "file_extension": ".py",
   "mimetype": "text/x-python",
   "name": "python",
   "nbconvert_exporter": "python",
   "pygments_lexer": "ipython3",
   "version": "3.10.8"
  },
  "orig_nbformat": 4
 },
 "nbformat": 4,
 "nbformat_minor": 2
}
